{
 "cells": [
  {
   "cell_type": "code",
   "execution_count": 4,
   "metadata": {},
   "outputs": [],
   "source": [
    "import numpy as np\n",
    "import pandas as pd\n",
    "import matplotlib.pyplot as plt"
   ]
  },
  {
   "cell_type": "code",
   "execution_count": 5,
   "metadata": {},
   "outputs": [],
   "source": [
    "np.random.seed(3)\n",
    "\n",
    "def f(x):\n",
    "    \"\"\"\"This function is the underlying _true_ function from which the data is generated\"\"\"\n",
    "    return np.sin(2*np.pi*x)\n",
    "\n",
    "def simulated_data(sample_size, std, a=0, b=1):\n",
    "    \"\"\" This function generates the random data by adding a normally distributed noise to a given function f in the interval (0,1)\"\"\"\n",
    "    x = np.linspace(a,b, sample_size)\n",
    "    y = f(x) + np.random.normal(0.0, scale=std, size=len(x))\n",
    "    return x, y\n"
   ]
  },
  {
   "cell_type": "markdown",
   "metadata": {},
   "source": []
  },
  {
   "cell_type": "code",
   "execution_count": null,
   "metadata": {},
   "outputs": [],
   "source": [
    "def grad_dest(theta):\n",
    "    alpha = 0.005\n",
    "    theta = theta - alpha*()\n"
   ]
  }
 ],
 "metadata": {
  "interpreter": {
   "hash": "4dbc44690cfc74f16e71db5d3cff45b563143d1c71680895bff5cd269662a323"
  },
  "kernelspec": {
   "display_name": "Python 3.9.12",
   "language": "python",
   "name": "python3"
  },
  "language_info": {
   "codemirror_mode": {
    "name": "ipython",
    "version": 3
   },
   "file_extension": ".py",
   "mimetype": "text/x-python",
   "name": "python",
   "nbconvert_exporter": "python",
   "pygments_lexer": "ipython3",
   "version": "3.9.12"
  },
  "orig_nbformat": 4
 },
 "nbformat": 4,
 "nbformat_minor": 2
}
